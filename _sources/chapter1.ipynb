{
 "cells": [
  {
   "cell_type": "markdown",
   "id": "78576ed0",
   "metadata": {},
   "source": [
    "\n",
    "# 1. Procesos estocásticos\n"
   ]
  },
  {
   "cell_type": "markdown",
   "id": "aa5df23d",
   "metadata": {},
   "source": [
    "<div style=\"text-align: justify\">\n",
    "En este capítulo abordaremos el concepto básico de proceso estocástico, concepto usado como instrumento para diseñar modelos probabilísticos de sistemas, cuyo estado está sujeto a evolucionar en el transcurso del tiempo. El capítulo inicia con una breve introducción y ejemplos de procesos estocásticos. Seguido, presentaremos una clasificación de los diferentes tipos de procesos estocásticos y algunos elementos útiles para su caracterización. Finalmente, ilustramos una aproximación al concepto de memoria asociado a un proceso estocástico, así como la definición de homogeneidad en el tiempo. \n",
    "<div/>"
   ]
  },
  {
   "cell_type": "markdown",
   "id": "761f511e",
   "metadata": {},
   "source": [
    "## 1.1 Introducción:"
   ]
  },
  {
   "cell_type": "markdown",
   "id": "04b652ea",
   "metadata": {},
   "source": [
    "<div style=\"text-align: justify\">\n",
    "Consideremos un fenómeno aleatorio, o un sistema con aspectos de aleatoriedad, y se contempla un elemento observable del fenómeno que pueda caracterizarse de manera probabilística. Supongamos que los valores posibles de la bservación conforman un conjunto S de tipo discreto (finito o contable). Si se observa ese mismo fenómeno aleatorio de forma reiterada, por ejemplo, cada minuto durante un cierto intervalo de tiempo, se obtiene una secuencia ordenada de observaciones en el tiempo, que podemos denotar como $(X_n, n>=0)$. Esta secuencia ordenada es un ejemplo de proceso estocástico. El resultado de cada observación pertenece al conjunto S  (definido anteriormente), y en realidad es predecible sólo en términos probabilísticos, es decir Xn  es una variable aleatoria por cada valor de n.\n",
    "<div/>\n",
    "    "
   ]
  },
  {
   "cell_type": "markdown",
   "id": "3c8b5012",
   "metadata": {},
   "source": [
    "### Ejemplo:"
   ]
  },
  {
   "cell_type": "markdown",
   "id": "2dd1908d",
   "metadata": {},
   "source": [
    "    - Fenómeno aleatorio: Juego de póker en un casino durante un número de rondas. \n",
    "\n",
    "    - Variable de interés: Nos enfocamos en la cantidad Dn de dinero de un jugador particular. \n",
    "\n",
    "    - Conjunto de observación: Observamos dicha cantidad después de cada ronda n del juego"
   ]
  },
  {
   "cell_type": "markdown",
   "id": "70b1a720",
   "metadata": {},
   "source": [
    "<div style=\"text-align: justify\">\n",
    "No se puede predecir con exactitud la cantidad de dinero del jugador, pero sí es posible determinar la probabilidad de que sea igual a un determinado monto. Es decir, es posible realizar una predicción de dicha cantidad en términos probabilísticos. Si denotamos con $D_n$ la cantidad de dinero que el jugador posee al terminar la ronda $n$, siendo \n",
    "$D_0$ la cantidad inicial antes de empezar a jugar, entonces $(Dn,n≥0)$ es un proceso estocástico. \n",
    "    \n",
    "No puede faltar en la definición de un proceso estocástico la especificación de la variable de estado. En el ejemplo del caso anterior:  \n",
    "$D_n=$Cantidad de dinero que el jugador posee al terminar la ronda n  del juego   \n",
    "\n",
    "\n",
    "<div/>"
   ]
  },
  {
   "cell_type": "markdown",
   "id": "2d2c7978",
   "metadata": {},
   "source": [
    "<div style=\"text-align: justify\">\n",
    "Es importante observar que a partir del mismo fenómeno aleatorio se pueden definir múltiples procesos estocásticos, por ejemplo, al variar el elemento observable o la temporalidad de observación. En el caso del Ejemplo 1, si se observa la cantidad total de dinero apostado por todos los jugadores en cada ronda, denotada como $T_n$, habríamos definido otro proceso estocástico $(T_n,n≥0)$.\n",
    "<div/>"
   ]
  },
  {
   "cell_type": "markdown",
   "id": "37721a29",
   "metadata": {},
   "source": [
    "### Ejemplo: "
   ]
  },
  {
   "cell_type": "markdown",
   "id": "c53d119c",
   "metadata": {},
   "source": [
    "    - Fenómeno aleatorio: Llegada de carros a un parqueadero. \n",
    "\n",
    "    - Variable de interés: Se busca medir el número de carros en el sistema (parqueadero). \n",
    "\n",
    "    - Conjunto de observación: La observación se realiza cada vez que un carro llega al parqueadero. "
   ]
  },
  {
   "cell_type": "markdown",
   "id": "ec42b7ab",
   "metadata": {},
   "source": [
    "<div style=\"text-align: justify\">\n",
    "En este caso la variable de estado se puede definir como:  \n",
    "  \n",
    "\n",
    "$C_n$=Número de carros en el parqueadero en el momento inmediatamente después de la llegada del carro n-ésimo\n",
    "Para el ejemplo anterior, otra variable de interés podría ser el tiempo que pasa entre llegadas consecutivas al parqueadero. Por ejemplo, consideremos la siguiente variable:  \n",
    "\n",
    "   $I_n$= Tiempo entre la llegada del carro n -ésimo y el carro n+1 -ésimo al parqueadero\n",
    "<div/>"
   ]
  },
  {
   "cell_type": "markdown",
   "id": "18dad4b3",
   "metadata": {},
   "source": [
    "<div style=\"text-align: justify\">\n",
    "Esta secuencia de observaciones definiría un proceso estocástico $(I_n,n>=0)$, donde los posibles valores que toma la variable son tiempos, es decir, números reales no-negativos.  \n",
    "\n",
    "También, es posible observar un sistema en tiempo continuo, es decir en cada instante de tiempo, sin precisar la secuencia de instantes en la cual se realiza el muestreo (observación) de la variable de interés. En el caso del Ejemplo 2 podríamos por ejemplo definir:  \n",
    "<div/>    \n",
    "$C(t)=$Número de carros en el parqueadero en el instante de tiempo t  \n",
    "<div style=\"text-align: justify\">    \n",
    "En este caso nos interesa observar esta variable continuamente, en todo tiempo $t≥0$, y no solo en momentos discretos del tiempo. El conjunto de observaciones sería $(C(t),t≥0)$, que constituye un proceso estocástico que evoluciona en tiempo continuo. Las definiciones de la variable de interés y la temporalidad de observación hacen parte del proceso de modelado de un sistema. Si bien, en algunos casos tales definiciones pueden ser obviamente determinadas por la naturaleza del sistema, en general existen múltiples opciones de modelado, por lo cual es esencial tener en cuenta el objetivo del estudio del sistema.  \n",
    "<div/>"
   ]
  },
  {
   "cell_type": "markdown",
   "id": "75858eb5",
   "metadata": {},
   "source": [
    "## 1.2 Caracterización de los procesos estocásticos"
   ]
  },
  {
   "cell_type": "markdown",
   "id": "afed39d3",
   "metadata": {},
   "source": [
    "<div style=\"text-align: justify\">\n",
    "Con el objetivo de proporcionar elementos útiles para el estudio de sistemas estocásticos que evolucionan en el tiempo, en esta sección plantearemos una formalización y una posible clasificación de los procesos estocásticos. Una definición muy abstracta de proceso estocástico afirma que: “Un proceso estocástico es una familia indexada de variables aleatorias”, la cual se comprende como mayor facilidad si se substituyen las palabras familia indexada por secuencia ordenada. Como tal, los procesos estocásticos son objeto de estudio teórico de las matemáticas y de la probabilidad aplicada. Sin embargo, sus áreas de aplicación son múltiples en las ciencias aplicadas como la física, la ingeniería, medicina e incluso en ciencias sociales, ya que se prestan para el modelado de sistemas muy diferentes con el objetivo de medir su rendimiento y tomar decisiones sin influir directamente en él.  \n",
    "<div/>    \n",
    "<div style=\"text-align: justify\">\n",
    "La palabra estocástico fue introducida en tiempos bastante recientes por L. Bortkiewcz, quien la utilizó en 1917 para definir fenómenos que incluyen aspectos probabilísticos. Por otra parte, la terminología proceso estocástico, así como la entendemos hoy fue presentada por el matemático ruso A. Kolmogorov en 1932. La definición de un proceso estocástico deja libertad en cuanto a la selección de la variable de interés y a la frecuencia de observación; como consecuencia, existen muchos tipos de procesos estocásticos. Entre los más conocidos, se pueden encontrar procesos de conteo, movimientos Brownianos, cadenas de Markov, procesos de Martingala, procesos de Levy, procesos Gaussianos, entre otros. Consideramos una colección ordenada de variables aleatorias, es decir un proceso estocástico, y definimos la siguiente terminología; llamaremos estado del proceso estocástico a un valor particular que puede tomar la variable que se observa, y espacio de estados al conjunto de todos los posibles estados de la variable, lo cual se denota usualmente con S.  \n",
    "<div/>"
   ]
  },
  {
   "cell_type": "markdown",
   "id": "def8144b",
   "metadata": {},
   "source": [
    "<div style=\"text-align: justify\">\n",
    "Como se mencionó, en un proceso estocástico solo conocemos el estado del sistema de forma probabilística. Así, estamos interesados en conocer la distribución de probabilidad de la variable de interés en un momento del tiempo. Por ejemplo, para el proceso estocástico $(X_n,n>=0)$, es pertinente preguntar cuál es la probabilidad $P[X_5=x]$, es decir, la probabilidad de que en el momento n=5 de observación la variable de estado $X_5$ tome el valor x, donde x  es un valor posible del estado del proceso, es decir x 𝜖 S.  \n",
    "También podemos estar interesados en la probabilidad de que esta variable en el momento n=5 tome valores menores o iguales a x, es decir $P[X5≤x]$. Por ejemplo, la probabilidad de que el monto total de dinero apostado en la quinta ronda del juego de póker sea 35,000 pesos, $P[T5=35,000]$, o que sea a lo sumo 20,000 pesos, $P[T5≤20,000]$. \n",
    "\n",
    "\n",
    "<div/>"
   ]
  },
  {
   "cell_type": "markdown",
   "id": "330375ef",
   "metadata": {},
   "source": [
    "<div style=\"text-align: justify\">\n",
    "Dada la disponibilidad de múltiples observaciones en un proceso estocástico, surgen otro tipo de preguntas interesantes, cuya respuesta puede proporcionar información útil para el análisis de los sistemas que se quieren estudiar a través del modelado. Por ejemplo, la probabilidad de que el número de carros en el parqueadero a las 9 de la mañana sea 10, dado que a las 8 de la mañana era igual a 5. Esta probabilidad condicional se describiría en notación matemática como $P[C(9AM)=10|C(8AM)=5]$.  \n",
    "También pueden existir preguntas interesantes que involucran las distribuciones conjuntas de un proceso estocástico. Por ejemplo, si estuviéramos interesados en la probabilidad de que los primeros tres tiempos entre llegadas al parqueadero fuesen menores a una cantidad fija 𝜏, tendríamos que calcular la siguiente probabilidad:  \n",
    "$P[I1<𝜏, I2<𝜏,I3<𝜏]$.  \n",
    "    En general, la caracterización de un proceso estocástico requiere información sobre las distribuciones de probabilidad condicionales, marginales y conjuntas de las variables aleatorias que conforman el proceso estocástico. Como veremos en el capítulo siguiente, en algunos casos específicos dicha caracterización puede simplificarse considerablemente.  \n",
    "    \n",
    "    \n",
    "\n",
    "\n",
    "<div/>"
   ]
  },
  {
   "cell_type": "markdown",
   "id": "b0319774",
   "metadata": {},
   "source": [
    "## 1.3 Clasificación de los procesos estocásticos"
   ]
  },
  {
   "cell_type": "markdown",
   "id": "e279a038",
   "metadata": {},
   "source": [
    "<div style=\"text-align: justify\">\n",
    "Una clasificación muy general de los procesos estocásticos es aquella que considera las posibles tipologías de dos características claves del proceso. La primera es el espacio de estados S, el cual puede ser discreto o continuo. La segunda es el conjunto de índices, referido al conjunto que define las observaciones del fenómeno aleatorio al que denotaremos como I, el cual puede ser discreto o continuo.  \n",
    "<div/>\n",
    "<div style=\"text-align: justify\">\n",
    "Al definir una variable de interés X  que toma valores en un espacio de estados S, y la cual observamos en instantes de tiempo definidos por un conjunto de índices I, tendremos una primera clasificación del proceso estocástico. Si el espacio de estados S  es un conjunto discreto/continuo, diremos que el proceso estocástico tiene espacio discreto/continuo. Si el conjunto de índices I  es un conjunto discreto/continuo, diremos que el proceso estocástico es en tiempo discreto/continuo. \n",
    "<div/>"
   ]
  }
 ],
 "metadata": {
  "kernelspec": {
   "display_name": "Python 3 (ipykernel)",
   "language": "python",
   "name": "python3"
  },
  "language_info": {
   "codemirror_mode": {
    "name": "ipython",
    "version": 3
   },
   "file_extension": ".py",
   "mimetype": "text/x-python",
   "name": "python",
   "nbconvert_exporter": "python",
   "pygments_lexer": "ipython3",
   "version": "3.10.6"
  }
 },
 "nbformat": 4,
 "nbformat_minor": 5
}
